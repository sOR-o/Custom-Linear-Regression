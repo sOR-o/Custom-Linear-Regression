{
 "cells": [
  {
   "cell_type": "code",
   "execution_count": 18,
   "id": "d175291f-dc6e-42f1-ada0-8112722fd227",
   "metadata": {},
   "outputs": [],
   "source": [
    "# Import necessary libraries\n",
    "import numpy as np  # NumPy is a library for numerical operations\n",
    "import matplotlib.pyplot as plt  # Matplotlib is a library for data visualization"
   ]
  },
  {
   "cell_type": "code",
   "execution_count": 21,
   "id": "2db25587-42f8-429a-bd27-7e3f714ca3a0",
   "metadata": {},
   "outputs": [],
   "source": [
    "class LinearRegCustom:\n",
    "    \"\"\"\n",
    "    A custom implementation of simple linear regression using gradient descent.\n",
    "\n",
    "    Parameters:\n",
    "    - lr (float): Learning rate for gradient descent.\n",
    "\n",
    "    Attributes:\n",
    "    - coef_ (float): The coefficient representing the linear relationship.\n",
    "    - intercept_ (float): The intercept term (bias) in the linear model.\n",
    "    \"\"\"\n",
    "\n",
    "    # Constructor\n",
    "    def __init__(self, lr=0.1):\n",
    "        \"\"\"\n",
    "        Initialize the LinearRegCustom class.\n",
    "\n",
    "        Parameters:\n",
    "        - lr (float): Learning rate for gradient descent.\n",
    "        \"\"\"\n",
    "        self.lr = lr\n",
    "\n",
    "    # Training function, i.e., fit\n",
    "    def fit(self, X, y):\n",
    "        \"\"\"\n",
    "        Fit the model to the training data.\n",
    "\n",
    "        Parameters:\n",
    "        - X (numpy.ndarray): Feature variable (independent variable) values.\n",
    "        - y (numpy.ndarray): Target variable (dependent variable) values.\n",
    "\n",
    "        Returns:\n",
    "        - errors (list): List of errors at each iteration during training.\n",
    "        \"\"\"\n",
    "        self._X = X  # _X mock behavior like private\n",
    "        self._y = y.reshape(-1, 1)  # Ensure correct shape for calculations\n",
    "\n",
    "        # Initialize coefficients and intercept at random values\n",
    "        self.coef_ = numpy.random.random()\n",
    "        self.intercept_ = numpy.random.random()\n",
    "\n",
    "        errors = []  # List to store errors during training\n",
    "\n",
    "        # Perform gradient descent (e.g., 50 iterations)\n",
    "        for i in range(500):\n",
    "            self.gradient_descend()\n",
    "            errors.append(self.error())\n",
    "        return errors\n",
    "\n",
    "    def gradient_descend(self):\n",
    "        \"\"\"\n",
    "        Update coefficients and intercept using gradient descent.\n",
    "        \"\"\"\n",
    "        d_coef, d_intercept = self.gradient()\n",
    "        self.coef_ -= d_coef * self.lr\n",
    "        self.intercept_ -= d_intercept * self.lr\n",
    "\n",
    "    def gradient(self):\n",
    "        \"\"\"\n",
    "        Compute the gradient of the cost function with respect to coefficients and intercept.\n",
    "\n",
    "        Returns:\n",
    "        - d_coef (float): Change in coefficient.\n",
    "        - d_intercept (float): Change in intercept.\n",
    "        \"\"\"\n",
    "        yh = self.predict(self._X)\n",
    "\n",
    "        d_coef = ((yh - self._y) * self._X).mean()\n",
    "        d_intercept = (yh - self._y).mean()\n",
    "\n",
    "        return d_coef, d_intercept\n",
    "\n",
    "    def predict(self, X):\n",
    "        \"\"\"\n",
    "        Predict target variable values based on feature variable values.\n",
    "\n",
    "        Parameters:\n",
    "        - X (numpy.ndarray): Feature variable (independent variable) values.\n",
    "\n",
    "        Returns:\n",
    "        - yh (numpy.ndarray): Predicted target variable values.\n",
    "        \"\"\"\n",
    "        return X * self.coef_ + self.intercept_\n",
    "\n",
    "    def error(self):\n",
    "        \"\"\"\n",
    "        Calculate the mean squared error (MSE) for the model's predictions.\n",
    "\n",
    "        Returns:\n",
    "        - error (float): Mean squared error.\n",
    "        \"\"\"\n",
    "        return ((self.predict(self._X) - self._y) ** 2).sum()\n"
   ]
  },
  {
   "cell_type": "code",
   "execution_count": 22,
   "id": "49a789fd-ae2e-4879-a2d3-58add540add4",
   "metadata": {},
   "outputs": [],
   "source": [
    "# Import the necessary libraries\n",
    "from sklearn.datasets import fetch_california_housing\n",
    "import pandas as pd\n",
    "from sklearn.model_selection import train_test_split\n",
    "from sklearn.linear_model import LinearRegression"
   ]
  },
  {
   "cell_type": "code",
   "execution_count": 23,
   "id": "6597097c-89e6-4e53-9cda-a103983e8693",
   "metadata": {},
   "outputs": [],
   "source": [
    "# Load the California Housing dataset\n",
    "california_housing = fetch_california_housing()"
   ]
  },
  {
   "cell_type": "code",
   "execution_count": 24,
   "id": "0d4b93d3-4e93-46c1-8430-df914a6876b3",
   "metadata": {},
   "outputs": [],
   "source": [
    "# Split the data into features (X) and the target variable (y)\n",
    "X = california_housing.data\n",
    "y = california_housing.target"
   ]
  },
  {
   "cell_type": "code",
   "execution_count": 25,
   "id": "28e54bd7-c9e6-45c3-a8c8-de951dbed52c",
   "metadata": {},
   "outputs": [],
   "source": [
    "# Split the data into training and testing sets\n",
    "X_train, X_test, y_train, y_test = train_test_split(X, y, test_size=0.33, random_state=42)"
   ]
  },
  {
   "cell_type": "code",
   "execution_count": 26,
   "id": "ab97da92-c819-45c9-bb56-be535c8e6df5",
   "metadata": {},
   "outputs": [
    {
     "data": {
      "text/html": [
       "<style>#sk-container-id-1 {color: black;}#sk-container-id-1 pre{padding: 0;}#sk-container-id-1 div.sk-toggleable {background-color: white;}#sk-container-id-1 label.sk-toggleable__label {cursor: pointer;display: block;width: 100%;margin-bottom: 0;padding: 0.3em;box-sizing: border-box;text-align: center;}#sk-container-id-1 label.sk-toggleable__label-arrow:before {content: \"▸\";float: left;margin-right: 0.25em;color: #696969;}#sk-container-id-1 label.sk-toggleable__label-arrow:hover:before {color: black;}#sk-container-id-1 div.sk-estimator:hover label.sk-toggleable__label-arrow:before {color: black;}#sk-container-id-1 div.sk-toggleable__content {max-height: 0;max-width: 0;overflow: hidden;text-align: left;background-color: #f0f8ff;}#sk-container-id-1 div.sk-toggleable__content pre {margin: 0.2em;color: black;border-radius: 0.25em;background-color: #f0f8ff;}#sk-container-id-1 input.sk-toggleable__control:checked~div.sk-toggleable__content {max-height: 200px;max-width: 100%;overflow: auto;}#sk-container-id-1 input.sk-toggleable__control:checked~label.sk-toggleable__label-arrow:before {content: \"▾\";}#sk-container-id-1 div.sk-estimator input.sk-toggleable__control:checked~label.sk-toggleable__label {background-color: #d4ebff;}#sk-container-id-1 div.sk-label input.sk-toggleable__control:checked~label.sk-toggleable__label {background-color: #d4ebff;}#sk-container-id-1 input.sk-hidden--visually {border: 0;clip: rect(1px 1px 1px 1px);clip: rect(1px, 1px, 1px, 1px);height: 1px;margin: -1px;overflow: hidden;padding: 0;position: absolute;width: 1px;}#sk-container-id-1 div.sk-estimator {font-family: monospace;background-color: #f0f8ff;border: 1px dotted black;border-radius: 0.25em;box-sizing: border-box;margin-bottom: 0.5em;}#sk-container-id-1 div.sk-estimator:hover {background-color: #d4ebff;}#sk-container-id-1 div.sk-parallel-item::after {content: \"\";width: 100%;border-bottom: 1px solid gray;flex-grow: 1;}#sk-container-id-1 div.sk-label:hover label.sk-toggleable__label {background-color: #d4ebff;}#sk-container-id-1 div.sk-serial::before {content: \"\";position: absolute;border-left: 1px solid gray;box-sizing: border-box;top: 0;bottom: 0;left: 50%;z-index: 0;}#sk-container-id-1 div.sk-serial {display: flex;flex-direction: column;align-items: center;background-color: white;padding-right: 0.2em;padding-left: 0.2em;position: relative;}#sk-container-id-1 div.sk-item {position: relative;z-index: 1;}#sk-container-id-1 div.sk-parallel {display: flex;align-items: stretch;justify-content: center;background-color: white;position: relative;}#sk-container-id-1 div.sk-item::before, #sk-container-id-1 div.sk-parallel-item::before {content: \"\";position: absolute;border-left: 1px solid gray;box-sizing: border-box;top: 0;bottom: 0;left: 50%;z-index: -1;}#sk-container-id-1 div.sk-parallel-item {display: flex;flex-direction: column;z-index: 1;position: relative;background-color: white;}#sk-container-id-1 div.sk-parallel-item:first-child::after {align-self: flex-end;width: 50%;}#sk-container-id-1 div.sk-parallel-item:last-child::after {align-self: flex-start;width: 50%;}#sk-container-id-1 div.sk-parallel-item:only-child::after {width: 0;}#sk-container-id-1 div.sk-dashed-wrapped {border: 1px dashed gray;margin: 0 0.4em 0.5em 0.4em;box-sizing: border-box;padding-bottom: 0.4em;background-color: white;}#sk-container-id-1 div.sk-label label {font-family: monospace;font-weight: bold;display: inline-block;line-height: 1.2em;}#sk-container-id-1 div.sk-label-container {text-align: center;}#sk-container-id-1 div.sk-container {/* jupyter's `normalize.less` sets `[hidden] { display: none; }` but bootstrap.min.css set `[hidden] { display: none !important; }` so we also need the `!important` here to be able to override the default hidden behavior on the sphinx rendered scikit-learn.org. See: https://github.com/scikit-learn/scikit-learn/issues/21755 */display: inline-block !important;position: relative;}#sk-container-id-1 div.sk-text-repr-fallback {display: none;}</style><div id=\"sk-container-id-1\" class=\"sk-top-container\"><div class=\"sk-text-repr-fallback\"><pre>LinearRegression()</pre><b>In a Jupyter environment, please rerun this cell to show the HTML representation or trust the notebook. <br />On GitHub, the HTML representation is unable to render, please try loading this page with nbviewer.org.</b></div><div class=\"sk-container\" hidden><div class=\"sk-item\"><div class=\"sk-estimator sk-toggleable\"><input class=\"sk-toggleable__control sk-hidden--visually\" id=\"sk-estimator-id-1\" type=\"checkbox\" checked><label for=\"sk-estimator-id-1\" class=\"sk-toggleable__label sk-toggleable__label-arrow\">LinearRegression</label><div class=\"sk-toggleable__content\"><pre>LinearRegression()</pre></div></div></div></div></div>"
      ],
      "text/plain": [
       "LinearRegression()"
      ]
     },
     "execution_count": 26,
     "metadata": {},
     "output_type": "execute_result"
    }
   ],
   "source": [
    "# Train a linear regression model on the data\n",
    "model = LinearRegression()\n",
    "model.fit(X_train, y_train)"
   ]
  },
  {
   "cell_type": "code",
   "execution_count": 27,
   "id": "8a66a7a0-d0a7-4f33-91dc-1e1453891b29",
   "metadata": {},
   "outputs": [],
   "source": [
    "# Make predictions for the test data\n",
    "predictions = model.predict(X_test[:1])"
   ]
  },
  {
   "cell_type": "code",
   "execution_count": 28,
   "id": "a6c1f83e-0fde-4da8-aef8-6d1f4262aff9",
   "metadata": {},
   "outputs": [
    {
     "name": "stdout",
     "output_type": "stream",
     "text": [
      "Predicted value for the first test sample: 0.7256346156569862\n",
      "Features for the first test sample:\n",
      "[[ 1.68120000e+00  2.50000000e+01  4.19220056e+00  1.02228412e+00\n",
      "   1.39200000e+03  3.87743733e+00  3.60600000e+01 -1.19010000e+02]]\n"
     ]
    }
   ],
   "source": [
    "# Print the predicted value for the first test sample and the features for that sample\n",
    "print(\"Predicted value for the first test sample:\", predictions[0])\n",
    "print(\"Features for the first test sample:\")\n",
    "print(X_test[:1])"
   ]
  },
  {
   "cell_type": "code",
   "execution_count": null,
   "id": "6ccfa2b5-519f-4903-9be6-61f111f9813b",
   "metadata": {},
   "outputs": [],
   "source": []
  }
 ],
 "metadata": {
  "kernelspec": {
   "display_name": "Python 3 (ipykernel)",
   "language": "python",
   "name": "python3"
  },
  "language_info": {
   "codemirror_mode": {
    "name": "ipython",
    "version": 3
   },
   "file_extension": ".py",
   "mimetype": "text/x-python",
   "name": "python",
   "nbconvert_exporter": "python",
   "pygments_lexer": "ipython3",
   "version": "3.10.13"
  }
 },
 "nbformat": 4,
 "nbformat_minor": 5
}
